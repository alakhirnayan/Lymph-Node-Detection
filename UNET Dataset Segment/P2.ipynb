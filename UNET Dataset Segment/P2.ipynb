{
 "cells": [
  {
   "cell_type": "code",
   "execution_count": 1,
   "metadata": {},
   "outputs": [],
   "source": [
    "# Youtube: https://www.youtube.com/watch?v=CogGIdkDA8g"
   ]
  },
  {
   "cell_type": "code",
   "execution_count": 1,
   "metadata": {
    "scrolled": true
   },
   "outputs": [],
   "source": [
    "import os\n",
    "import matplotlib.pyplot as plt\n",
    "\n",
    "import tensorflow as tf\n",
    "from tensorflow.keras.preprocessing.image import ImageDataGenerator \n",
    "from tensorflow import keras"
   ]
  },
  {
   "cell_type": "code",
   "execution_count": 2,
   "metadata": {
    "scrolled": true
   },
   "outputs": [],
   "source": [
    "# Define constants\n",
    "SEED = 909\n",
    "BATCH_SIZE_TRAIN = 32\n",
    "BATCH_SIZE_TEST = 32\n",
    "\n",
    "IMAGE_HEIGHT = 32\n",
    "IMAGE_WIDTH = 32\n",
    "IMG_SIZE = (IMAGE_HEIGHT, IMAGE_WIDTH)\n",
    "\n",
    "data_dir = 'data/slices/'\n",
    "data_dir_train = os.path.join(data_dir, 'training')\n",
    "# The images should be stored under: \"data/slices/training/img/img\"\n",
    "data_dir_train_image = os.path.join(data_dir_train, 'img')\n",
    "# The images should be stored under: \"data/slices/training/mask/img\"\n",
    "data_dir_train_mask = os.path.join(data_dir_train, 'mask')\n",
    "\n",
    "data_dir_test = os.path.join(data_dir, 'test')\n",
    "# The images should be stored under: \"data/slices/test/img/img\"\n",
    "data_dir_test_image = os.path.join(data_dir_test, 'img')\n",
    "# The images should be stored under: \"data/slices/test/mask/img\"\n",
    "data_dir_test_mask = os.path.join(data_dir_test, 'mask')\n",
    "\n",
    "NUM_TRAIN = 2861\n",
    "NUM_TEST = 600\n",
    "\n",
    "NUM_OF_EPOCHS = 100"
   ]
  },
  {
   "cell_type": "code",
   "execution_count": 3,
   "metadata": {},
   "outputs": [],
   "source": [
    "def create_segmentation_generator_train(img_path, msk_path, BATCH_SIZE):\n",
    "    data_gen_args = dict(rescale=1./255\n",
    "#                      featurewise_center=True,\n",
    "#                      featurewise_std_normalization=True,\n",
    "#                      rotation_range=90\n",
    "#                      width_shift_range=0.2,\n",
    "#                      height_shift_range=0.2,\n",
    "#                      zoom_range=0.3\n",
    "                        )\n",
    "    datagen = ImageDataGenerator(**data_gen_args)\n",
    "    \n",
    "    img_generator = datagen.flow_from_directory(img_path, target_size=IMG_SIZE, class_mode=None, color_mode='grayscale', batch_size=BATCH_SIZE, seed=SEED)\n",
    "    msk_generator = datagen.flow_from_directory(msk_path, target_size=IMG_SIZE, class_mode=None, color_mode='grayscale', batch_size=BATCH_SIZE, seed=SEED)\n",
    "    return zip(img_generator, msk_generator)\n",
    "\n",
    "# Remember not to perform any image augmentation in the test generator!\n",
    "def create_segmentation_generator_test(img_path, msk_path, BATCH_SIZE):\n",
    "    data_gen_args = dict(rescale=1./255)\n",
    "    datagen = ImageDataGenerator(**data_gen_args)\n",
    "    \n",
    "    img_generator = datagen.flow_from_directory(img_path, target_size=IMG_SIZE, class_mode=None, color_mode='grayscale', batch_size=BATCH_SIZE, seed=SEED)\n",
    "    msk_generator = datagen.flow_from_directory(msk_path, target_size=IMG_SIZE, class_mode=None, color_mode='grayscale', batch_size=BATCH_SIZE, seed=SEED)\n",
    "    return zip(img_generator, msk_generator)"
   ]
  },
  {
   "cell_type": "code",
   "execution_count": 4,
   "metadata": {},
   "outputs": [
    {
     "ename": "FileNotFoundError",
     "evalue": "[Errno 2] No such file or directory: 'data/slices/training/img'",
     "output_type": "error",
     "traceback": [
      "\u001b[0;31m---------------------------------------------------------------------------\u001b[0m",
      "\u001b[0;31mFileNotFoundError\u001b[0m                         Traceback (most recent call last)",
      "\u001b[0;32m<ipython-input-4-aabc96924536>\u001b[0m in \u001b[0;36m<module>\u001b[0;34m()\u001b[0m\n\u001b[0;32m----> 1\u001b[0;31m \u001b[0mtrain_generator\u001b[0m \u001b[0;34m=\u001b[0m \u001b[0mcreate_segmentation_generator_train\u001b[0m\u001b[0;34m(\u001b[0m\u001b[0mdata_dir_train_image\u001b[0m\u001b[0;34m,\u001b[0m \u001b[0mdata_dir_train_mask\u001b[0m\u001b[0;34m,\u001b[0m \u001b[0mBATCH_SIZE_TRAIN\u001b[0m\u001b[0;34m)\u001b[0m\u001b[0;34m\u001b[0m\u001b[0;34m\u001b[0m\u001b[0m\n\u001b[0m\u001b[1;32m      2\u001b[0m \u001b[0mtest_generator\u001b[0m \u001b[0;34m=\u001b[0m \u001b[0mcreate_segmentation_generator_test\u001b[0m\u001b[0;34m(\u001b[0m\u001b[0mdata_dir_test_image\u001b[0m\u001b[0;34m,\u001b[0m \u001b[0mdata_dir_test_mask\u001b[0m\u001b[0;34m,\u001b[0m \u001b[0mBATCH_SIZE_TEST\u001b[0m\u001b[0;34m)\u001b[0m\u001b[0;34m\u001b[0m\u001b[0;34m\u001b[0m\u001b[0m\n",
      "\u001b[0;32m<ipython-input-3-1e17c2631c2d>\u001b[0m in \u001b[0;36mcreate_segmentation_generator_train\u001b[0;34m(img_path, msk_path, BATCH_SIZE)\u001b[0m\n\u001b[1;32m     10\u001b[0m     \u001b[0mdatagen\u001b[0m \u001b[0;34m=\u001b[0m \u001b[0mImageDataGenerator\u001b[0m\u001b[0;34m(\u001b[0m\u001b[0;34m**\u001b[0m\u001b[0mdata_gen_args\u001b[0m\u001b[0;34m)\u001b[0m\u001b[0;34m\u001b[0m\u001b[0;34m\u001b[0m\u001b[0m\n\u001b[1;32m     11\u001b[0m \u001b[0;34m\u001b[0m\u001b[0m\n\u001b[0;32m---> 12\u001b[0;31m     \u001b[0mimg_generator\u001b[0m \u001b[0;34m=\u001b[0m \u001b[0mdatagen\u001b[0m\u001b[0;34m.\u001b[0m\u001b[0mflow_from_directory\u001b[0m\u001b[0;34m(\u001b[0m\u001b[0mimg_path\u001b[0m\u001b[0;34m,\u001b[0m \u001b[0mtarget_size\u001b[0m\u001b[0;34m=\u001b[0m\u001b[0mIMG_SIZE\u001b[0m\u001b[0;34m,\u001b[0m \u001b[0mclass_mode\u001b[0m\u001b[0;34m=\u001b[0m\u001b[0;32mNone\u001b[0m\u001b[0;34m,\u001b[0m \u001b[0mcolor_mode\u001b[0m\u001b[0;34m=\u001b[0m\u001b[0;34m'grayscale'\u001b[0m\u001b[0;34m,\u001b[0m \u001b[0mbatch_size\u001b[0m\u001b[0;34m=\u001b[0m\u001b[0mBATCH_SIZE\u001b[0m\u001b[0;34m,\u001b[0m \u001b[0mseed\u001b[0m\u001b[0;34m=\u001b[0m\u001b[0mSEED\u001b[0m\u001b[0;34m)\u001b[0m\u001b[0;34m\u001b[0m\u001b[0;34m\u001b[0m\u001b[0m\n\u001b[0m\u001b[1;32m     13\u001b[0m     \u001b[0mmsk_generator\u001b[0m \u001b[0;34m=\u001b[0m \u001b[0mdatagen\u001b[0m\u001b[0;34m.\u001b[0m\u001b[0mflow_from_directory\u001b[0m\u001b[0;34m(\u001b[0m\u001b[0mmsk_path\u001b[0m\u001b[0;34m,\u001b[0m \u001b[0mtarget_size\u001b[0m\u001b[0;34m=\u001b[0m\u001b[0mIMG_SIZE\u001b[0m\u001b[0;34m,\u001b[0m \u001b[0mclass_mode\u001b[0m\u001b[0;34m=\u001b[0m\u001b[0;32mNone\u001b[0m\u001b[0;34m,\u001b[0m \u001b[0mcolor_mode\u001b[0m\u001b[0;34m=\u001b[0m\u001b[0;34m'grayscale'\u001b[0m\u001b[0;34m,\u001b[0m \u001b[0mbatch_size\u001b[0m\u001b[0;34m=\u001b[0m\u001b[0mBATCH_SIZE\u001b[0m\u001b[0;34m,\u001b[0m \u001b[0mseed\u001b[0m\u001b[0;34m=\u001b[0m\u001b[0mSEED\u001b[0m\u001b[0;34m)\u001b[0m\u001b[0;34m\u001b[0m\u001b[0;34m\u001b[0m\u001b[0m\n\u001b[1;32m     14\u001b[0m     \u001b[0;32mreturn\u001b[0m \u001b[0mzip\u001b[0m\u001b[0;34m(\u001b[0m\u001b[0mimg_generator\u001b[0m\u001b[0;34m,\u001b[0m \u001b[0mmsk_generator\u001b[0m\u001b[0;34m)\u001b[0m\u001b[0;34m\u001b[0m\u001b[0;34m\u001b[0m\u001b[0m\n",
      "\u001b[0;32m/home/al-akhir/.local/lib/python3.6/site-packages/keras/preprocessing/image.py\u001b[0m in \u001b[0;36mflow_from_directory\u001b[0;34m(self, directory, target_size, color_mode, classes, class_mode, batch_size, shuffle, seed, save_to_dir, save_prefix, save_format, follow_links, subset, interpolation)\u001b[0m\n\u001b[1;32m    990\u001b[0m         \u001b[0mfollow_links\u001b[0m\u001b[0;34m=\u001b[0m\u001b[0mfollow_links\u001b[0m\u001b[0;34m,\u001b[0m\u001b[0;34m\u001b[0m\u001b[0;34m\u001b[0m\u001b[0m\n\u001b[1;32m    991\u001b[0m         \u001b[0msubset\u001b[0m\u001b[0;34m=\u001b[0m\u001b[0msubset\u001b[0m\u001b[0;34m,\u001b[0m\u001b[0;34m\u001b[0m\u001b[0;34m\u001b[0m\u001b[0m\n\u001b[0;32m--> 992\u001b[0;31m         interpolation=interpolation)\n\u001b[0m\u001b[1;32m    993\u001b[0m \u001b[0;34m\u001b[0m\u001b[0m\n\u001b[1;32m    994\u001b[0m   def flow_from_dataframe(self,\n",
      "\u001b[0;32m/home/al-akhir/.local/lib/python3.6/site-packages/keras/preprocessing/image.py\u001b[0m in \u001b[0;36m__init__\u001b[0;34m(self, directory, image_data_generator, target_size, color_mode, classes, class_mode, batch_size, shuffle, seed, data_format, save_to_dir, save_prefix, save_format, follow_links, subset, interpolation, dtype)\u001b[0m\n\u001b[1;32m    408\u001b[0m         \u001b[0msubset\u001b[0m\u001b[0;34m=\u001b[0m\u001b[0msubset\u001b[0m\u001b[0;34m,\u001b[0m\u001b[0;34m\u001b[0m\u001b[0;34m\u001b[0m\u001b[0m\n\u001b[1;32m    409\u001b[0m         \u001b[0minterpolation\u001b[0m\u001b[0;34m=\u001b[0m\u001b[0minterpolation\u001b[0m\u001b[0;34m,\u001b[0m\u001b[0;34m\u001b[0m\u001b[0;34m\u001b[0m\u001b[0m\n\u001b[0;32m--> 410\u001b[0;31m         **kwargs)\n\u001b[0m\u001b[1;32m    411\u001b[0m \u001b[0;34m\u001b[0m\u001b[0m\n\u001b[1;32m    412\u001b[0m \u001b[0;34m\u001b[0m\u001b[0m\n",
      "\u001b[0;32m/home/al-akhir/.local/lib/python3.6/site-packages/keras_preprocessing/image/directory_iterator.py\u001b[0m in \u001b[0;36m__init__\u001b[0;34m(self, directory, image_data_generator, target_size, color_mode, classes, class_mode, batch_size, shuffle, seed, data_format, save_to_dir, save_prefix, save_format, follow_links, subset, interpolation, dtype)\u001b[0m\n\u001b[1;32m    113\u001b[0m         \u001b[0;32mif\u001b[0m \u001b[0;32mnot\u001b[0m \u001b[0mclasses\u001b[0m\u001b[0;34m:\u001b[0m\u001b[0;34m\u001b[0m\u001b[0;34m\u001b[0m\u001b[0m\n\u001b[1;32m    114\u001b[0m             \u001b[0mclasses\u001b[0m \u001b[0;34m=\u001b[0m \u001b[0;34m[\u001b[0m\u001b[0;34m]\u001b[0m\u001b[0;34m\u001b[0m\u001b[0;34m\u001b[0m\u001b[0m\n\u001b[0;32m--> 115\u001b[0;31m             \u001b[0;32mfor\u001b[0m \u001b[0msubdir\u001b[0m \u001b[0;32min\u001b[0m \u001b[0msorted\u001b[0m\u001b[0;34m(\u001b[0m\u001b[0mos\u001b[0m\u001b[0;34m.\u001b[0m\u001b[0mlistdir\u001b[0m\u001b[0;34m(\u001b[0m\u001b[0mdirectory\u001b[0m\u001b[0;34m)\u001b[0m\u001b[0;34m)\u001b[0m\u001b[0;34m:\u001b[0m\u001b[0;34m\u001b[0m\u001b[0;34m\u001b[0m\u001b[0m\n\u001b[0m\u001b[1;32m    116\u001b[0m                 \u001b[0;32mif\u001b[0m \u001b[0mos\u001b[0m\u001b[0;34m.\u001b[0m\u001b[0mpath\u001b[0m\u001b[0;34m.\u001b[0m\u001b[0misdir\u001b[0m\u001b[0;34m(\u001b[0m\u001b[0mos\u001b[0m\u001b[0;34m.\u001b[0m\u001b[0mpath\u001b[0m\u001b[0;34m.\u001b[0m\u001b[0mjoin\u001b[0m\u001b[0;34m(\u001b[0m\u001b[0mdirectory\u001b[0m\u001b[0;34m,\u001b[0m \u001b[0msubdir\u001b[0m\u001b[0;34m)\u001b[0m\u001b[0;34m)\u001b[0m\u001b[0;34m:\u001b[0m\u001b[0;34m\u001b[0m\u001b[0;34m\u001b[0m\u001b[0m\n\u001b[1;32m    117\u001b[0m                     \u001b[0mclasses\u001b[0m\u001b[0;34m.\u001b[0m\u001b[0mappend\u001b[0m\u001b[0;34m(\u001b[0m\u001b[0msubdir\u001b[0m\u001b[0;34m)\u001b[0m\u001b[0;34m\u001b[0m\u001b[0;34m\u001b[0m\u001b[0m\n",
      "\u001b[0;31mFileNotFoundError\u001b[0m: [Errno 2] No such file or directory: 'data/slices/training/img'"
     ]
    }
   ],
   "source": [
    "train_generator = create_segmentation_generator_train(data_dir_train_image, data_dir_train_mask, BATCH_SIZE_TRAIN)\n",
    "test_generator = create_segmentation_generator_test(data_dir_test_image, data_dir_test_mask, BATCH_SIZE_TEST)"
   ]
  },
  {
   "cell_type": "code",
   "execution_count": 6,
   "metadata": {},
   "outputs": [],
   "source": [
    "def display(display_list):\n",
    "    plt.figure(figsize=(15,15))\n",
    "    \n",
    "    title = ['Input Image', 'True Mask', 'Predicted Mask']\n",
    "    \n",
    "    for i in range(len(display_list)):\n",
    "        plt.subplot(1, len(display_list), i+1)\n",
    "        plt.title(title[i])\n",
    "        plt.imshow(tf.keras.preprocessing.image.array_to_img(display_list[i]), cmap='gray')\n",
    "    plt.show()"
   ]
  },
  {
   "cell_type": "code",
   "execution_count": 7,
   "metadata": {
    "scrolled": false
   },
   "outputs": [],
   "source": [
    "def show_dataset(datagen, num=1):\n",
    "    for i in range(0,num):\n",
    "        image,mask = next(datagen)\n",
    "        display([image[0], mask[0]])"
   ]
  },
  {
   "cell_type": "code",
   "execution_count": 8,
   "metadata": {},
   "outputs": [
    {
     "data": {
      "image/png": "[encoded data removed]",
      "text/plain": [
       "<Figure size 1080x1080 with 2 Axes>"
      ]
     },
     "metadata": {
      "needs_background": "light"
     },
     "output_type": "display_data"
    },
    {
     "data": {
      "image/png": "[encoded data removed]",
      "text/plain": [
       "<Figure size 1080x1080 with 2 Axes>"
      ]
     },
     "metadata": {
      "needs_background": "light"
     },
     "output_type": "display_data"
    }
   ],
   "source": [
    "show_dataset(train_generator, 2)"
   ]
  },
  {
   "cell_type": "code",
   "execution_count": 9,
   "metadata": {},
   "outputs": [],
   "source": [
    "def unet(n_levels, initial_features=32, n_blocks=2, kernel_size=3, pooling_size=1, in_channels=1, out_channels=1):\n",
    "    inputs = keras.layers.Input(shape=(IMAGE_HEIGHT, IMAGE_WIDTH, in_channels, 1))\n",
    "    x = inputs\n",
    "    \n",
    "    convpars = dict(kernel_size=kernel_size, activation='relu', padding='same')\n",
    "    \n",
    "    #downstream\n",
    "    skips = {}\n",
    "    for level in range(n_levels):\n",
    "        for _ in range(n_blocks):\n",
    "            x = keras.layers.Conv3D(initial_features * 2 ** level, **convpars)(x)\n",
    "        if level < n_levels - 1:\n",
    "            skips[level] = x\n",
    "            x = keras.layers.MaxPool3D(pooling_size)(x)\n",
    "            \n",
    "    # upstream\n",
    "    for level in reversed(range(n_levels-1)):\n",
    "        x = keras.layers.Conv3DTranspose(initial_features * 2 ** level, strides=pooling_size, **convpars)(x)\n",
    "        x = keras.layers.Concatenate()([x, skips[level]])\n",
    "        for _ in range(n_blocks):\n",
    "            x = keras.layers.Conv3D(initial_features * 2 ** level, **convpars)(x)\n",
    "            \n",
    "    # output\n",
    "    activation = 'sigmoid' if out_channels == 1 else 'softmax'\n",
    "    x = keras.layers.Conv3D(out_channels, kernel_size=1, activation=activation, padding='same')(x)\n",
    "    \n",
    "    return keras.Model(inputs=[inputs], outputs=[x], name=f'UNET-L{n_levels}-F{initial_features}')\n",
    "        "
   ]
  },
  {
   "cell_type": "code",
   "execution_count": 10,
   "metadata": {},
   "outputs": [],
   "source": [
    "EPOCH_STEP_TRAIN = NUM_TRAIN // BATCH_SIZE_TRAIN\n",
    "EPOCH_STEP_TEST = NUM_TEST // BATCH_SIZE_TEST\n",
    "\n",
    "model = unet(4)\n",
    "model.compile(optimizer='adam', loss='binary_crossentropy', metrics=['accuracy'])"
   ]
  },
  {
   "cell_type": "code",
   "execution_count": 11,
   "metadata": {},
   "outputs": [
    {
     "name": "stdout",
     "output_type": "stream",
     "text": [
      "Model: \"UNET-L4-F32\"\n",
      "__________________________________________________________________________________________________\n",
      " Layer (type)                   Output Shape         Param #     Connected to                     \n",
      "==================================================================================================\n",
      " input_1 (InputLayer)           [(None, 32, 32, 1,   0           []                               \n",
      "                                1)]                                                               \n",
      "                                                                                                  \n",
      " conv3d (Conv3D)                (None, 32, 32, 1, 3  896         ['input_1[0][0]']                \n",
      "                                2)                                                                \n",
      "                                                                                                  \n",
      " conv3d_1 (Conv3D)              (None, 32, 32, 1, 3  27680       ['conv3d[0][0]']                 \n",
      "                                2)                                                                \n",
      "                                                                                                  \n",
      " max_pooling3d (MaxPooling3D)   (None, 32, 32, 1, 3  0           ['conv3d_1[0][0]']               \n",
      "                                2)                                                                \n",
      "                                                                                                  \n",
      " conv3d_2 (Conv3D)              (None, 32, 32, 1, 6  55360       ['max_pooling3d[0][0]']          \n",
      "                                4)                                                                \n",
      "                                                                                                  \n",
      " conv3d_3 (Conv3D)              (None, 32, 32, 1, 6  110656      ['conv3d_2[0][0]']               \n",
      "                                4)                                                                \n",
      "                                                                                                  \n",
      " max_pooling3d_1 (MaxPooling3D)  (None, 32, 32, 1, 6  0          ['conv3d_3[0][0]']               \n",
      "                                4)                                                                \n",
      "                                                                                                  \n",
      " conv3d_4 (Conv3D)              (None, 32, 32, 1, 1  221312      ['max_pooling3d_1[0][0]']        \n",
      "                                28)                                                               \n",
      "                                                                                                  \n",
      " conv3d_5 (Conv3D)              (None, 32, 32, 1, 1  442496      ['conv3d_4[0][0]']               \n",
      "                                28)                                                               \n",
      "                                                                                                  \n",
      " max_pooling3d_2 (MaxPooling3D)  (None, 32, 32, 1, 1  0          ['conv3d_5[0][0]']               \n",
      "                                28)                                                               \n",
      "                                                                                                  \n",
      " conv3d_6 (Conv3D)              (None, 32, 32, 1, 2  884992      ['max_pooling3d_2[0][0]']        \n",
      "                                56)                                                               \n",
      "                                                                                                  \n",
      " conv3d_7 (Conv3D)              (None, 32, 32, 1, 2  1769728     ['conv3d_6[0][0]']               \n",
      "                                56)                                                               \n",
      "                                                                                                  \n",
      " conv3d_transpose (Conv3DTransp  (None, 32, 32, 1, 1  884864     ['conv3d_7[0][0]']               \n",
      " ose)                           28)                                                               \n",
      "                                                                                                  \n",
      " concatenate (Concatenate)      (None, 32, 32, 1, 2  0           ['conv3d_transpose[0][0]',       \n",
      "                                56)                               'conv3d_5[0][0]']               \n",
      "                                                                                                  \n",
      " conv3d_8 (Conv3D)              (None, 32, 32, 1, 1  884864      ['concatenate[0][0]']            \n",
      "                                28)                                                               \n",
      "                                                                                                  \n",
      " conv3d_9 (Conv3D)              (None, 32, 32, 1, 1  442496      ['conv3d_8[0][0]']               \n",
      "                                28)                                                               \n",
      "                                                                                                  \n",
      " conv3d_transpose_1 (Conv3DTran  (None, 32, 32, 1, 6  221248     ['conv3d_9[0][0]']               \n",
      " spose)                         4)                                                                \n",
      "                                                                                                  \n",
      " concatenate_1 (Concatenate)    (None, 32, 32, 1, 1  0           ['conv3d_transpose_1[0][0]',     \n",
      "                                28)                               'conv3d_3[0][0]']               \n",
      "                                                                                                  \n",
      " conv3d_10 (Conv3D)             (None, 32, 32, 1, 6  221248      ['concatenate_1[0][0]']          \n",
      "                                4)                                                                \n",
      "                                                                                                  \n",
      " conv3d_11 (Conv3D)             (None, 32, 32, 1, 6  110656      ['conv3d_10[0][0]']              \n",
      "                                4)                                                                \n",
      "                                                                                                  \n",
      " conv3d_transpose_2 (Conv3DTran  (None, 32, 32, 1, 3  55328      ['conv3d_11[0][0]']              \n",
      " spose)                         2)                                                                \n",
      "                                                                                                  \n",
      " concatenate_2 (Concatenate)    (None, 32, 32, 1, 6  0           ['conv3d_transpose_2[0][0]',     \n",
      "                                4)                                'conv3d_1[0][0]']               \n",
      "                                                                                                  \n",
      " conv3d_12 (Conv3D)             (None, 32, 32, 1, 3  55328       ['concatenate_2[0][0]']          \n",
      "                                2)                                                                \n",
      "                                                                                                  \n",
      " conv3d_13 (Conv3D)             (None, 32, 32, 1, 3  27680       ['conv3d_12[0][0]']              \n",
      "                                2)                                                                \n",
      "                                                                                                  \n",
      " conv3d_14 (Conv3D)             (None, 32, 32, 1, 1  33          ['conv3d_13[0][0]']              \n",
      "                                )                                                                 \n",
      "                                                                                                  \n",
      "==================================================================================================\n",
      "Total params: 6,416,865\n",
      "Trainable params: 6,416,865\n",
      "Non-trainable params: 0\n",
      "__________________________________________________________________________________________________\n"
     ]
    }
   ],
   "source": [
    "model.summary()"
   ]
  },
  {
   "cell_type": "code",
   "execution_count": null,
   "metadata": {
    "scrolled": false
   },
   "outputs": [
    {
     "name": "stderr",
     "output_type": "stream",
     "text": [
      "<ipython-input-12-f52164cccefe>:1: UserWarning: `Model.fit_generator` is deprecated and will be removed in a future version. Please use `Model.fit`, which supports generators.\n",
      "  model.fit_generator(generator=train_generator,\n"
     ]
    },
    {
     "name": "stdout",
     "output_type": "stream",
     "text": [
      "Epoch 1/100\n",
      " 3/89 [>.............................] - ETA: 30:38 - loss: 0.6928 - accuracy: 0.0103"
     ]
    }
   ],
   "source": [
    "model.fit_generator(generator=train_generator, \n",
    "                    steps_per_epoch=EPOCH_STEP_TRAIN, \n",
    "                    validation_data=test_generator, \n",
    "                    validation_steps=EPOCH_STEP_TEST,\n",
    "                   epochs=NUM_OF_EPOCHS)"
   ]
  },
  {
   "cell_type": "code",
   "execution_count": null,
   "metadata": {},
   "outputs": [],
   "source": [
    "model.save(f'UNET-ToothSegmentation_{IMAGE_HEIGHT}_{IMAGE_WIDTH}.h5')"
   ]
  },
  {
   "cell_type": "code",
   "execution_count": null,
   "metadata": {},
   "outputs": [],
   "source": [
    "test_generator = create_segmentation_generator_test(data_dir_test_image, data_dir_test_mask, 1)"
   ]
  },
  {
   "cell_type": "code",
   "execution_count": null,
   "metadata": {},
   "outputs": [],
   "source": [
    "def show_prediction(datagen, num=1):\n",
    "    for i in range(0,num):\n",
    "        image,mask = next(datagen)\n",
    "        pred_mask = model.predict(image)[0] > 0.5\n",
    "        display([image[0], mask[0], pred_mask])"
   ]
  },
  {
   "cell_type": "code",
   "execution_count": null,
   "metadata": {},
   "outputs": [],
   "source": [
    "show_prediction(test_generator, 3)"
   ]
  },
  {
   "cell_type": "code",
   "execution_count": null,
   "metadata": {},
   "outputs": [],
   "source": [
    "# https://github.com/madsendennis/notebooks"
   ]
  },
  {
   "cell_type": "code",
   "execution_count": null,
   "metadata": {},
   "outputs": [],
   "source": []
  }
 ],
 "metadata": {
  "kernelspec": {
   "display_name": "Python 3",
   "language": "python",
   "name": "python3"
  },
  "language_info": {
   "codemirror_mode": {
    "name": "ipython",
    "version": 3
   },
   "file_extension": ".py",
   "mimetype": "text/x-python",
   "name": "python",
   "nbconvert_exporter": "python",
   "pygments_lexer": "ipython3",
   "version": "3.6.9"
  }
 },
 "nbformat": 4,
 "nbformat_minor": 4
}
