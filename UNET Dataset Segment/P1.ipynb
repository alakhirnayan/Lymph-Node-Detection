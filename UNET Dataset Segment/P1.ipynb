{
 "cells": [
  {
   "cell_type": "code",
   "execution_count": 66,
   "metadata": {},
   "outputs": [],
   "source": [
    "# Youtube: https://www.youtube.com/watch?v=NJNvXEYa_gM"
   ]
  },
  {
   "cell_type": "code",
   "execution_count": 67,
   "metadata": {},
   "outputs": [],
   "source": [
    "import os, glob\n",
    "import nibabel as nib\n",
    "import numpy as np\n",
    "import matplotlib.pyplot as plt\n",
    "import cv2"
   ]
  },
  {
   "cell_type": "code",
   "execution_count": 68,
   "metadata": {},
   "outputs": [],
   "source": [
    "# CONSTANTS!!!\n",
    "\n",
    "# STEP 1 - Load and visualize data\n",
    "dataInputPath = 'data/volumes/'\n",
    "imagePathInput = os.path.join(dataInputPath, 'img/')\n",
    "maskPathInput = os.path.join(dataInputPath, 'mask/')\n",
    "\n",
    "dataOutputPath = 'data/slices/'\n",
    "imageSliceOutput = os.path.join(dataOutputPath, 'img/')\n",
    "maskSliceOutput = os.path.join(dataOutputPath, 'mask/')\n",
    "\n",
    "# STEP 2 - Image normalization\n",
    "HOUNSFIELD_MIN = -1000\n",
    "HOUNSFIELD_MAX = 2000\n",
    "HOUNSFIELD_RANGE = HOUNSFIELD_MAX - HOUNSFIELD_MIN\n",
    "\n",
    "# STEP 3 - Slicing and saving\n",
    "SLICE_X = False\n",
    "SLICE_Y = False\n",
    "SLICE_Z = True\n",
    "\n",
    "SLICE_DECIMATE_IDENTIFIER = 3"
   ]
  },
  {
   "cell_type": "code",
   "execution_count": 69,
   "metadata": {},
   "outputs": [
    {
     "data": {
      "text/plain": [
       "(0.0, 2.0, (512, 512, 621), numpy.memmap)"
      ]
     },
     "execution_count": 69,
     "metadata": {},
     "output_type": "execute_result"
    }
   ],
   "source": [
    "# Load image and see max min Hounsfield units\n",
    "imgPath = os.path.join(imagePathInput, '001.nii')\n",
    "img = nib.load(imgPath).get_fdata()\n",
    "np.min(img), np.max(img), img.shape, type(img)"
   ]
  },
  {
   "cell_type": "code",
   "execution_count": 70,
   "metadata": {},
   "outputs": [
    {
     "data": {
      "text/plain": [
       "(0.0, 2.0, (512, 512, 696), numpy.memmap)"
      ]
     },
     "execution_count": 70,
     "metadata": {},
     "output_type": "execute_result"
    }
   ],
   "source": [
    "# Load image mask and see max min Hounsfield units\n",
    "maskPath = os.path.join(maskPathInput, '001.nii')\n",
    "mask = nib.load(maskPath).get_fdata()\n",
    "np.min(mask), np.max(mask), mask.shape, type(mask)"
   ]
  },
  {
   "cell_type": "code",
   "execution_count": 71,
   "metadata": {},
   "outputs": [
    {
     "data": {
      "image/png": "[encoded data removed]",
      "text/plain": [
       "<Figure size 432x288 with 1 Axes>"
      ]
     },
     "metadata": {},
     "output_type": "display_data"
    }
   ],
   "source": [
    "# Show image slice\n",
    "imgSlice = mask[20,:,:]\n",
    "plt.imshow(imgSlice, cmap='gray')\n",
    "plt.show()"
   ]
  },
  {
   "cell_type": "code",
   "execution_count": 72,
   "metadata": {},
   "outputs": [
    {
     "data": {
      "text/plain": [
       "(0.3333333333333333, 0.334, (512, 512, 621), numpy.ndarray)"
      ]
     },
     "execution_count": 72,
     "metadata": {},
     "output_type": "execute_result"
    }
   ],
   "source": [
    "# Normalize image\n",
    "def normalizeImageIntensityRange(img):\n",
    "    img[img < HOUNSFIELD_MIN] = HOUNSFIELD_MIN\n",
    "    img[img > HOUNSFIELD_MAX] = HOUNSFIELD_MAX\n",
    "    return (img - HOUNSFIELD_MIN) / HOUNSFIELD_RANGE\n",
    "\n",
    "nImg = normalizeImageIntensityRange(img)\n",
    "np.min(nImg), np.max(nImg), nImg.shape, type(nImg)"
   ]
  },
  {
   "cell_type": "code",
   "execution_count": 73,
   "metadata": {},
   "outputs": [
    {
     "data": {
      "text/plain": [
       "memmap([[[0., 0., 0., ..., 0., 0., 0.],\n",
       "         [0., 0., 0., ..., 0., 0., 0.],\n",
       "         [0., 0., 0., ..., 0., 0., 0.],\n",
       "         ...,\n",
       "         [0., 0., 0., ..., 0., 0., 0.],\n",
       "         [0., 0., 0., ..., 0., 0., 0.],\n",
       "         [0., 0., 0., ..., 0., 0., 0.]],\n",
       "\n",
       "        [[0., 0., 0., ..., 0., 0., 0.],\n",
       "         [0., 0., 0., ..., 0., 0., 0.],\n",
       "         [0., 0., 0., ..., 0., 0., 0.],\n",
       "         ...,\n",
       "         [0., 0., 0., ..., 0., 0., 0.],\n",
       "         [0., 0., 0., ..., 0., 0., 0.],\n",
       "         [0., 0., 0., ..., 0., 0., 0.]],\n",
       "\n",
       "        [[0., 0., 0., ..., 0., 0., 0.],\n",
       "         [0., 0., 0., ..., 0., 0., 0.],\n",
       "         [0., 0., 0., ..., 0., 0., 0.],\n",
       "         ...,\n",
       "         [0., 0., 0., ..., 0., 0., 0.],\n",
       "         [0., 0., 0., ..., 0., 0., 0.],\n",
       "         [0., 0., 0., ..., 0., 0., 0.]],\n",
       "\n",
       "        ...,\n",
       "\n",
       "        [[0., 0., 0., ..., 0., 0., 0.],\n",
       "         [0., 0., 0., ..., 0., 0., 0.],\n",
       "         [0., 0., 0., ..., 0., 0., 0.],\n",
       "         ...,\n",
       "         [0., 0., 0., ..., 0., 0., 0.],\n",
       "         [0., 0., 0., ..., 0., 0., 0.],\n",
       "         [0., 0., 0., ..., 0., 0., 0.]],\n",
       "\n",
       "        [[0., 0., 0., ..., 0., 0., 0.],\n",
       "         [0., 0., 0., ..., 0., 0., 0.],\n",
       "         [0., 0., 0., ..., 0., 0., 0.],\n",
       "         ...,\n",
       "         [0., 0., 0., ..., 0., 0., 0.],\n",
       "         [0., 0., 0., ..., 0., 0., 0.],\n",
       "         [0., 0., 0., ..., 0., 0., 0.]],\n",
       "\n",
       "        [[0., 0., 0., ..., 0., 0., 0.],\n",
       "         [0., 0., 0., ..., 0., 0., 0.],\n",
       "         [0., 0., 0., ..., 0., 0., 0.],\n",
       "         ...,\n",
       "         [0., 0., 0., ..., 0., 0., 0.],\n",
       "         [0., 0., 0., ..., 0., 0., 0.],\n",
       "         [0., 0., 0., ..., 0., 0., 0.]]])"
      ]
     },
     "execution_count": 73,
     "metadata": {},
     "output_type": "execute_result"
    }
   ],
   "source": [
    "# Read image or mask volume\n",
    "def readImageVolume(imgPath, normalize=False):\n",
    "    img = nib.load(imgPath).get_fdata()\n",
    "    if normalize:\n",
    "        return normalizeImageIntensityRange(img)\n",
    "    else:\n",
    "        return img\n",
    "    \n",
    "readImageVolume(imgPath, normalize=True)\n",
    "readImageVolume(maskPath, normalize=False)"
   ]
  },
  {
   "cell_type": "code",
   "execution_count": 74,
   "metadata": {},
   "outputs": [
    {
     "name": "stdout",
     "output_type": "stream",
     "text": [
      "[+] Slice saved: data/slices/img/test.png\r",
      "[+] Slice saved: data/slices/mask/test.png\r"
     ]
    }
   ],
   "source": [
    "# Save volume slice to file\n",
    "def saveSlice(img, fname, path):\n",
    "    img = np.uint8(img * 255)\n",
    "    fout = os.path.join(path, f'{fname}.png')\n",
    "    cv2.imwrite(fout, img)\n",
    "    print(f'[+] Slice saved: {fout}', end='\\r')\n",
    "    \n",
    "saveSlice(nImg[20,:,:], 'test', imageSliceOutput)\n",
    "saveSlice(mask[20,:,:], 'test', maskSliceOutput)"
   ]
  },
  {
   "cell_type": "code",
   "execution_count": 75,
   "metadata": {},
   "outputs": [],
   "source": [
    "# Slice image in all directions and save\n",
    "def sliceAndSaveVolumeImage(vol, fname, path):\n",
    "    (dimx, dimy, dimz) = vol.shape\n",
    "    print(dimx, dimy, dimz)\n",
    "    cnt = 0\n",
    "    if SLICE_X:\n",
    "        cnt += dimx\n",
    "        print('Slicing X: ')\n",
    "        for i in range(dimx):\n",
    "            saveSlice(vol[i,:,:], fname+f'-slice{str(i).zfill(SLICE_DECIMATE_IDENTIFIER)}_x', path)\n",
    "            \n",
    "    if SLICE_Y:\n",
    "        cnt += dimy\n",
    "        print('Slicing Y: ')\n",
    "        for i in range(dimy):\n",
    "            saveSlice(vol[:,i,:], fname+f'-slice{str(i).zfill(SLICE_DECIMATE_IDENTIFIER)}_y', path)\n",
    "            \n",
    "    if SLICE_Z:\n",
    "        cnt += dimz\n",
    "        print('Slicing Z: ')\n",
    "        for i in range(dimz):\n",
    "            saveSlice(vol[:,:,i], fname+f'-slice{str(i).zfill(SLICE_DECIMATE_IDENTIFIER)}_z', path)\n",
    "    return cnt"
   ]
  },
  {
   "cell_type": "code",
   "execution_count": 76,
   "metadata": {
    "scrolled": true
   },
   "outputs": [
    {
     "name": "stdout",
     "output_type": "stream",
     "text": [
      "data/volumes/img/001.nii (512, 512, 621) 1645 0.0 2.0\n",
      "512 512 621\n",
      "Slicing Z: \n",
      "[+] Slice saved: data/slices/img/0010-slice620_z.png\n",
      "data/volumes/img/001.nii, 621 slices created \n",
      "\n"
     ]
    }
   ],
   "source": [
    "# Read and process image volumes\n",
    "for index, filename in enumerate(sorted(glob.iglob(imagePathInput+'*.nii'))):\n",
    "    img = readImageVolume(filename, False)\n",
    "    print(filename, img.shape, np.sum(img.shape), np.min(img), np.max(img))\n",
    "    numOfSlices = sliceAndSaveVolumeImage(img, '001'+str(index), imageSliceOutput)\n",
    "    print(f'\\n{filename}, {numOfSlices} slices created \\n')"
   ]
  },
  {
   "cell_type": "code",
   "execution_count": 77,
   "metadata": {},
   "outputs": [
    {
     "name": "stdout",
     "output_type": "stream",
     "text": [
      "data/volumes/mask/001.nii (512, 512, 696) 1720 0.0 2.0\n",
      "512 512 696\n",
      "Slicing Z: \n",
      "[+] Slice saved: data/slices/mask/0010-slice695_z.png\n",
      "data/volumes/mask/001.nii, 696 slices created \n",
      "\n"
     ]
    }
   ],
   "source": [
    "# Read and process image mask volumes\n",
    "for index, filename in enumerate(sorted(glob.iglob(maskPathInput+'*.nii'))):\n",
    "    img = readImageVolume(filename, False)\n",
    "    print(filename, img.shape, np.sum(img.shape), np.min(img), np.max(img))\n",
    "    numOfSlices = sliceAndSaveVolumeImage(img, '001'+str(index), maskSliceOutput)\n",
    "    print(f'\\n{filename}, {numOfSlices} slices created \\n')"
   ]
  },
  {
   "cell_type": "code",
   "execution_count": 78,
   "metadata": {},
   "outputs": [],
   "source": [
    "# https://github.com/madsendennis/notebooks"
   ]
  },
  {
   "cell_type": "code",
   "execution_count": null,
   "metadata": {},
   "outputs": [],
   "source": []
  }
 ],
 "metadata": {
  "kernelspec": {
   "display_name": "Python 3",
   "language": "python",
   "name": "python3"
  },
  "language_info": {
   "codemirror_mode": {
    "name": "ipython",
    "version": 3
   },
   "file_extension": ".py",
   "mimetype": "text/x-python",
   "name": "python",
   "nbconvert_exporter": "python",
   "pygments_lexer": "ipython3",
   "version": "3.6.9"
  }
 },
 "nbformat": 4,
 "nbformat_minor": 4
}
